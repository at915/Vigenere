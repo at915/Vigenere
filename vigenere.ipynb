{
 "cells": [
  {
   "cell_type": "markdown",
   "source": [],
   "metadata": {
    "collapsed": false,
    "pycharm": {
     "name": "#%% md\n"
    }
   }
  },
  {
   "cell_type": "markdown",
   "source": [
    "# Vigenère cipher\n",
    "Vigenere encryption, decryption and ciphertext-only attack in python. [@gjs990825](https://github.com/gjs990825)\n",
    "Check [Vigenère cipher](https://en.wikipedia.org/wiki/Vigen%C3%A8re_cipher) on Wikipedia for more information."
   ],
   "metadata": {
    "collapsed": false,
    "pycharm": {
     "name": "#%% md\n"
    }
   }
  },
  {
   "cell_type": "markdown",
   "source": [
    "___\n",
    "## Part 1. Encryption and decryption"
   ],
   "metadata": {
    "collapsed": false,
    "pycharm": {
     "name": "#%% md\n"
    }
   }
  },
  {
   "cell_type": "markdown",
   "source": [
    "### The code"
   ],
   "metadata": {
    "collapsed": false,
    "pycharm": {
     "name": "#%% md\n"
    }
   }
  },
  {
   "cell_type": "code",
   "execution_count": 1,
   "metadata": {
    "collapsed": true,
    "pycharm": {
     "name": "#%%\n"
    }
   },
   "outputs": [],
   "source": [
    "from itertools import cycle, starmap, filterfalse\n",
    "import wordninja\n",
    "\n",
    "# constants\n",
    "A = ord('A')\n",
    "MAX_KEY_LENGTH = 50\n",
    "MAX_KEY_CANDIDATE = 10\n",
    "MAX_DUPLICATED_PART = 0.7\n",
    "\n",
    "# frequency taken from https://en.wikipedia.org/wiki/Letter_frequency\n",
    "FREQ_ENGLISH = [0.08167, 0.01492, 0.02782, 0.04253, 0.12702, 0.02228,\n",
    "                0.02015, 0.06094, 0.06966, 0.00153, 0.00772, 0.04025,\n",
    "                0.02406, 0.06749, 0.07507, 0.01929, 0.00095, 0.05987,\n",
    "                0.06327, 0.09056, 0.02758, 0.00978, 0.0236, 0.0015,\n",
    "                0.01974, 0.00074]\n",
    "# IC(index of coincidence) expected for english\n",
    "IC_ENGLISH = sum(f * f for f in FREQ_ENGLISH) * 26\n",
    "\n",
    "\n",
    "def alpha_only(text) -> str:\n",
    "    \"\"\"get all capitalized alpha only text\"\"\"\n",
    "    return ''.join(filterfalse(lambda c: not c.isalpha(), text)).upper()\n",
    "\n",
    "\n",
    "def split(no_space_text):\n",
    "    \"\"\"split no_space_text with wordninja, see https://github.com/keredson/wordninja for details\"\"\"\n",
    "    return ' '.join(wordninja.split(no_space_text))\n",
    "\n",
    "\n",
    "class Vigenere:\n",
    "    def __init__(self, keyword: str):\n",
    "        self.keyword = alpha_only(keyword)\n",
    "\n",
    "    @staticmethod\n",
    "    def get_cipher(p, k) -> str:\n",
    "        \"\"\"encrypt character p using character k as key\"\"\"\n",
    "        return chr(A + ((ord(p) - A) + (ord(k) - A)) % 26)\n",
    "\n",
    "    @staticmethod\n",
    "    def get_plain(c, k) -> str:\n",
    "        \"\"\"decrypt character c using character k\"\"\"\n",
    "        return chr(A + ((ord(c) - A) - (ord(k) - A)) % 26)\n",
    "\n",
    "    def encrypt(self, plain_text) -> str:\n",
    "        plain_text = alpha_only(plain_text)\n",
    "        return ''.join(starmap(self.get_cipher, zip(plain_text, cycle(self.keyword))))\n",
    "\n",
    "    def decrypt(self, cipher_text, split_word=False) -> str:\n",
    "        cipher_text = alpha_only(cipher_text)\n",
    "        plain_text = ''.join(starmap(self.get_plain, zip(cipher_text, cycle(self.keyword))))\n",
    "        return split(plain_text) if split_word else plain_text\n",
    "\n",
    "    def encrypt_file(self, in_path, out_path):\n",
    "        with open(in_path, 'r') as in_file, open(out_path, 'w') as out_file:\n",
    "            out_file.write(self.encrypt(in_file.read()))\n",
    "\n",
    "    def decrypt_file(self, in_path, out_path, split_word=False):\n",
    "        with open(in_path, 'r') as in_file, open(out_path, 'w') as out_file:\n",
    "            plain_text = self.decrypt(in_file.read(), split_word)\n",
    "            out_file.write(plain_text)\n"
   ]
  },
  {
   "cell_type": "markdown",
   "source": [
    "### Load test example"
   ],
   "metadata": {
    "collapsed": false,
    "pycharm": {
     "name": "#%% md\n"
    }
   }
  },
  {
   "cell_type": "code",
   "execution_count": 2,
   "outputs": [
    {
     "name": "stdout",
     "output_type": "stream",
     "text": [
      "Differential Privacy is the state-of-the-art goal for the problem of privacy-preserving data release and privacy-preserving data mining. Existing techniques using differential privacy, however, cannot effectively handle the publication of high-dimensional data. In particular, when the input dataset contains a large number of attributes, existing methods incur higher computing complexity and lower information to noise ratio, which renders the published data next to useless. This proposal aims to reduce computing complexity and signal to noise ratio. The starting point is to approximate the full distribution of high-dimensional dataset with a set of low-dimensional marginal distributions via optimizing score function and reducing sensitivity, in which generation of noisy conditional distributions with differential privacy is computed in a set of low-dimensional subspaces, and then, the sample tuples from the noisy approximation distribution are used to generate and release the synthetic dataset. Some crucial science problems would be investigated below: (i) constructing a low k-degree Bayesian network over the high-dimensional dataset via exponential mechanism in differential privacy, where the score function is optimized to reduce the sensitivity using mutual information, equivalence classes in maximum joint distribution and dynamic programming; (ii)studying the algorithm to compute a set of noisy conditional distributions from joint distributions in the subspace of Bayesian network, via the Laplace mechanism of differential privacy. (iii)exploring how to generate synthetic data from the differentially private Bayesian network and conditional distributions, without explicitly materializing the noisy global distribution. The proposed solution may have theoretical and technical significance for synthetic data generation with differential privacy on business prospects.\n"
     ]
    }
   ],
   "source": [
    "try:\n",
    "    with open('original.txt', 'r') as f:\n",
    "        original_text = f.read()\n",
    "except FileNotFoundError as e:\n",
    "    print(e)\n",
    "    original_text = ''\n",
    "\n",
    "print(original_text)"
   ],
   "metadata": {
    "collapsed": false,
    "pycharm": {
     "name": "#%%\n"
    }
   }
  },
  {
   "cell_type": "markdown",
   "source": [
    "### Encryption and decryption test"
   ],
   "metadata": {
    "collapsed": false,
    "pycharm": {
     "name": "#%% md\n"
    }
   }
  },
  {
   "cell_type": "code",
   "execution_count": 3,
   "outputs": [
    {
     "data": {
      "text/plain": "('LVKTWVGVGNODTTQIFQQMUBUJGLEVMBKHZICZGLCSPHWEYVWTTWOQSESHXENJSGAXEJGWVXQALRSXCZRQSSWGIAIDJMXIPDDJIUMEAWFKFIGFAARKVTJLAWVQALHWGJVVVIWWWAVSUVMHNRWSFXKIYUFAZCKLMCOIXMEHOFRQBRKTWGVQIJZQLCVQQSLLGXHGZAGCBVTBGJJQTMRAQGVFNCFENLNYOARRIEYWUYNIEBVWRVPRNBHYVLNYOKIVKBSHSMPANQOJKGVHRPWVQNNYHJMDCGJGWBKAGNBYQGBUTRKMPKHWVAKJMEHCETWBVSUUSOXYJLAXAIAIZGAGZVSTGVOIGNCFXQVBNGWVCBVTKZMEPEJBVITAGMSHYDTVXVWHFIGFBWBVBBZGWPGAFYVAWRZBUCKENIVRGLSTMQZQWGQUCZHARIKBRDDIZQGDOFHUQTSODXQVBNGWVCBVTHZIUBNWHARIXBNBLMUBBFDHVQFVROLIVPRKIDPFQFYFAFWBVTBGJJQTMRAQGVFNCFENLNYOKIVEVYVSWGBBKZGAFQZJBKMQVNQASVIQAFZVMUBENPMXKWAXJAEQXGNAADKVTXQGVGNHSQLMQVNSRJIFCPNBYWGVFNHAZKBLNBOLKKULSFITIGNCFSHVBNGQGQVQNHASPIYIWKXTQOZHASPAJNHZHKNSJFWRVQNQDJMXIPDWKGQUCZHWHKVNXSLSHTBBRAQGVFNCFENAHGGHEEMFFBVXJMAYVWWCUCQSLYRTRXTJSOBUJBGMUGNUDJSZQZFHASPLVXHJMDCGNCFETMHXSVXQORSSJEVMNSRJINMNXSLLGALSHZIVQPIOLEUMGXCEIEZHHWSPUKVJBUIRZBGZWQUEBZZVFGQAASKXKONYSVFGTBBWUSPAGWIUXKVTFZGAMLRLFWIDILJGAEPVRYKGVMWIJFLLGPVLVVMOMAXWGRCTQFHSWGBINOWBRWAJBLMCTZJQZEPQFRWFHKNSJFWRVQNQDJMXIPDKZITMGMSKGQZRKIFGVQBSWKSRBVRWRIFBBWSVYEMGMSKIPAVYWNMVGHXWFKOCGZODMPNBWASXKWAJEMMXIYJBUIETNXGWWKVZFLAQWUWTWFXFQFYFAFWBVTBSRFLLSOEMEXETUJEOUVSUAMUBHIMARIBUJODKQZVYVEXQKBRDMXGIFJHGJPWVXMUSPLVYWGRCTQNGLVKJHYWGRUNETABSKVGIWKXTQOZHASPAVSHZIUCOXDSGGWSGOQIUQNSBWXYWEPJAEVPRQOHPCKRRSULCVVXAGJFQSKSJIPBVFZHVKDNHMAMKMKUZGVKVTMCOXQORSSJEVMFDBLLGBVHRSXCNETALLGLVKTWVGVGNODPAXENJSXGJNDSKMCVAJHOSTSNSRUSPLVYWGRCTQNGLVKJHYWGRUEVYVGYVMKUZAGKBYDASXGZVFZADKVTYVWRQQFDUDSDIYIWKXTQOZHASPBUJDJSRWFJRKSNCGNCFQCGUFJWXJMBWSLMEIYFBVXGKUSWUENAVLBAJKKNSQWJQZFDBLLGBVHRSXCORSSJEVQBSKAXJLVKTWVGVGNODTTQIFQQSPJHXWFIUACWCKTGKGX',\n 'DIFFERENTIAL PRIVACY IS THE STATE OF THE ART GOAL FOR THE PROBLEM OF PRIVACY PRESERVING DATA RELEASE AND PRIVACY PRESERVING DATA MINING EXISTING TECHNIQUES USING DIFFERENTIAL PRIVACY HOWEVER CANNOT EFFECTIVELY HANDLE THE PUBLICATION OF HIGH DIMENSIONAL DATA IN PARTICULAR WHEN THE INPUT DATA SET CONTAINS A LARGE NUMBER OF ATTRIBUTES EXISTING METHODS INCUR HIGHER COMPUTING COMPLEXITY AND LOWER INFORMATION TO NOISE RATIO WHICH RENDERS THE PUBLISHED DATA NEXT TO USELESS THIS PROPOSAL AIMS TO REDUCE COMPUTING COMPLEXITY AND SIGNAL TO NOISE RATIO THE STARTING POINT IS TO APPROXIMATE THE FULL DISTRIBUTION OF HIGH DIMENSIONAL DATA SET WITH A SET OF LOW DIMENSIONAL MARGINAL DISTRIBUTIONS VIA OPTIMIZING SCORE FUNCTION AND REDUCING SENSITIVITY IN WHICH GENERATION OF NOISY CONDITIONAL DISTRIBUTIONS WITH DIFFERENTIAL PRIVACY IS COMPUTED IN A SET OF LOW DIMENSIONAL SUBSPACE S AND THEN THE SAMPLE TUPLES FROM THE NOISY APPROXIMATION DISTRIBUTION ARE USED TO GENERATE AND RELEASE THE SYNTHETIC DATA SET SOME CRUCIAL SCIENCE PROBLEMS WOULD BE INVESTIGATED BELOW I CONSTRUCTING A LOW K DEGREE BAYESIAN NETWORK OVER THE HIGH DIMENSIONAL DATA SET VIA EXPONENTIAL MECHANISM IN DIFFERENTIAL PRIVACY WHERE THE SCORE FUNCTION IS OPTIMIZED TO REDUCE THE SENSITIVITY USING MUTUAL INFORMATION EQUIVALENCE CLASSES IN MAXIMUM JOINT DISTRIBUTION AND DYNAMIC PROGRAMMING II STUDYING THE ALGORITHM TO COMPUTE A SET OF NOISY CONDITIONAL DISTRIBUTIONS FROM JOINT DISTRIBUTIONS IN THE SUBSPACE OF BAYESIAN NETWORK VIA THE LAPLACE MECHANISM OF DIFFERENTIAL PRIVACY III EXPLORING HOW TO GENERATE SYNTHETIC DATA FROM THE DIFFERENTIAL LY PRIVATE BAYESIAN NETWORK AND CONDITIONAL DISTRIBUTIONS WITHOUT EXPLICITLY MATERIALIZING THE NOISY GLOBAL DISTRIBUTION THE PROPOSED SOLUTION MAY HAVE THEORETICAL AND TECHNICAL SIGNIFICANCE FOR SYNTHETIC DATA GENERATION WITH DIFFERENTIAL PRIVACY ON BUSINESS PROSPECTS')"
     },
     "execution_count": 3,
     "metadata": {},
     "output_type": "execute_result"
    }
   ],
   "source": [
    "v = Vigenere('infosec')\n",
    "clean_text = alpha_only(original_text)\n",
    "cipher_text = v.encrypt(original_text)\n",
    "decrypted_text = v.decrypt(cipher_text, split_word=True)\n",
    "cipher_text, decrypted_text"
   ],
   "metadata": {
    "collapsed": false,
    "pycharm": {
     "name": "#%%\n"
    }
   }
  },
  {
   "cell_type": "markdown",
   "source": [
    "### File operations"
   ],
   "metadata": {
    "collapsed": false,
    "pycharm": {
     "name": "#%% md\n"
    }
   }
  },
  {
   "cell_type": "code",
   "execution_count": 4,
   "outputs": [],
   "source": [
    "v = Vigenere('infosec')\n",
    "v.encrypt_file('original.txt', 'encrypted.txt')\n",
    "v.decrypt_file('encrypted.txt', 'decrypted.txt', split_word=True)"
   ],
   "metadata": {
    "collapsed": false,
    "pycharm": {
     "name": "#%%\n"
    }
   }
  },
  {
   "cell_type": "markdown",
   "source": [
    "---\n",
    "## Part 2. Ciphertext-only attack\n",
    "Based on [index of coincidence](https://en.wikipedia.org/wiki/Index_of_coincidence) technique, see [example section](https://en.wikipedia.org/wiki/Index_of_coincidence#Example) for details."
   ],
   "metadata": {
    "collapsed": false,
    "pycharm": {
     "name": "#%% md\n"
    }
   }
  },
  {
   "cell_type": "markdown",
   "source": [],
   "metadata": {
    "collapsed": false,
    "pycharm": {
     "name": "#%% md\n"
    }
   }
  },
  {
   "cell_type": "code",
   "execution_count": 5,
   "outputs": [],
   "source": [
    "from collections import namedtuple\n",
    "\n",
    "\n",
    "def index_of_coincidence(text) -> float:\n",
    "    \"\"\"calculate IC(index of coincidence) of given string sequence\"\"\"\n",
    "    n = len(text)\n",
    "    if n <= 1: return 26\n",
    "    counts = [0 for _ in range(26)]\n",
    "    for c in text:\n",
    "        counts[ord(c) - A] += 1\n",
    "    return sum(c * (c - 1) for c in counts) / (n * (n - 1) / 26)\n",
    "\n",
    "\n",
    "def group_with_length(text, n) -> list[list[str]]:\n",
    "    \"\"\"i_th item falls into (i % length)_th group\"\"\"\n",
    "    results = [[] for _ in range(n)]\n",
    "    for i, c in enumerate(text):\n",
    "        results[i % n].append(c)\n",
    "    return results\n",
    "\n",
    "\n",
    "KeyInfo = namedtuple('KeyInfo', 'length ic'.split())\n",
    "Key = namedtuple('Key', 'key ic'.split())\n",
    "\n",
    "\n",
    "def guess_key_length(text) -> list[KeyInfo]:\n",
    "    \"\"\"compare AVERAGE IC of every key length in [1, MAX_KEY_LENGTH), return the top MAX_KEY_CANDIDATE ones close to IC_ENGLISH\"\"\"\n",
    "    key_info = []\n",
    "    for length in range(1, min(MAX_KEY_LENGTH, len(text))):\n",
    "        substrings = group_with_length(text, length)\n",
    "        average_ic = sum(index_of_coincidence(ss) for ss in substrings) / len(substrings)\n",
    "        key_info.append(KeyInfo(length, average_ic))\n",
    "    return sorted(key_info, key=lambda x: abs(x.ic - IC_ENGLISH))[:10]\n",
    "\n",
    "\n",
    "def correlation_of(text) -> float:\n",
    "    \"\"\"correlation between the text letter frequencies and the relative letter frequencies for normal English text\"\"\"\n",
    "    n = len(text)\n",
    "    counts = [0 for _ in range(26)]\n",
    "    for c in text:\n",
    "        counts[ord(c) - A] += 1\n",
    "    return sum(counts[i] / n * FREQ_ENGLISH[i] for i in range(26))\n",
    "\n",
    "\n",
    "def get_single_key(text) -> str:\n",
    "    \"\"\"test every character as key for given text, use the one that has highest correlation\"\"\"\n",
    "    correlations, max_idx = [], 0\n",
    "    for i in range(26):\n",
    "        v = Vigenere(chr(A + i))\n",
    "        correlations.append(correlation_of(v.decrypt(text)))\n",
    "        if correlations[i] > correlations[max_idx]:\n",
    "            max_idx = i\n",
    "    return chr(A + max_idx)"
   ],
   "metadata": {
    "collapsed": false,
    "pycharm": {
     "name": "#%%\n"
    }
   }
  },
  {
   "cell_type": "code",
   "execution_count": 6,
   "outputs": [],
   "source": [
    "def crack_virginia(cipher_text, save_to=None) -> list[Key]:\n",
    "    cipher_text, keys = alpha_only(cipher_text), []\n",
    "\n",
    "    # try all possible key length, find their corresponding keys\n",
    "    for key_info in guess_key_length(cipher_text):\n",
    "        substrings = group_with_length(cipher_text, key_info.length)\n",
    "        key = Key(''.join(get_single_key(ss) for ss in substrings), key_info.ic)\n",
    "        print(f'Key length {key_info.length}, IC = {key_info.ic:.3f}: {key.key}')\n",
    "        keys.append(key)\n",
    "\n",
    "    # remove similar(the ones have duplicated part bigger than MAX_DUPLICATED_PART) keys\n",
    "    copy, keep = sorted(keys, key=lambda k: len(k.key)), []\n",
    "    while len(copy) > 1:\n",
    "        drop = False\n",
    "        for other in copy[:-1]:\n",
    "            original = len(copy[-1].key)\n",
    "            processed = len(copy[-1].key.replace(other.key, ''))\n",
    "            if (1 - processed / original) > MAX_DUPLICATED_PART:\n",
    "                drop = True\n",
    "                break\n",
    "        if not drop:\n",
    "            keep.insert(0, copy[-1])\n",
    "        copy.pop()\n",
    "    keep.extend(copy)\n",
    "    keys = list(filterfalse(lambda k: k not in keep, keys))\n",
    "\n",
    "    # save decoding results\n",
    "    if save_to:\n",
    "        with open(save_to, 'w') as save_file:\n",
    "            for key in keys:\n",
    "                save_file.write(f'Decrypt using {key}:\\n')\n",
    "                save_file.write(Vigenere(key.key).decrypt(cipher_text, split_word=True))\n",
    "                save_file.write('\\n\\n')\n",
    "            print(f'check file {save_to} for cracking results')\n",
    "    # or print them\n",
    "    else:\n",
    "        for key in keys:\n",
    "            print(f'Decrypt using {key}:')\n",
    "            print(Vigenere(key.key).decrypt(cipher_text, split_word=True), end='\\n\\n')\n",
    "    return keys"
   ],
   "metadata": {
    "collapsed": false,
    "pycharm": {
     "name": "#%%\n"
    }
   }
  },
  {
   "cell_type": "markdown",
   "source": [
    "### Breaking the example cipher"
   ],
   "metadata": {
    "collapsed": false,
    "pycharm": {
     "name": "#%% md\n"
    }
   }
  },
  {
   "cell_type": "code",
   "execution_count": 7,
   "outputs": [
    {
     "name": "stdout",
     "output_type": "stream",
     "text": [
      "Key length 7, IC = 1.711: INFOSEC\n",
      "Key length 28, IC = 1.713: INFOSECINFOSECINFOSECINFOSEC\n",
      "Key length 14, IC = 1.713: INFOSECINFOSEC\n",
      "Key length 21, IC = 1.684: INFOSECINFOSECINFOSEC\n",
      "Key length 35, IC = 1.676: INFOSECINFOSECINFOSECINFOSECINFOSEC\n",
      "Key length 42, IC = 1.669: INFOSECINFOSECINFOSECINFOSECINFOSECINUOSEC\n",
      "Key length 49, IC = 1.624: XNFOSECINFOSECINFOSECINFOSECINFOSECINFOSECINFOSEC\n",
      "Key length 30, IC = 1.137: SCOOSSJSCEOANRSNNICWJOSNODPXNB\n",
      "Key length 40, IC = 1.122: SCDNPSJJCRTROASOCIZQUSSESECDRXJHIIGOTOCN\n",
      "Key length 29, IC = 1.119: WDOERNOSCCRUCNJASJCOCXIODIPIN\n",
      "Decrypt using Key(key='INFOSEC', ic=1.711004490531436):\n",
      "DIFFERENTIAL PRIVACY IS THE STATE OF THE ART GOAL FOR THE PROBLEM OF PRIVACY PRESERVING DATA RELEASE AND PRIVACY PRESERVING DATA MINING EXISTING TECHNIQUES USING DIFFERENTIAL PRIVACY HOWEVER CANNOT EFFECTIVELY HANDLE THE PUBLICATION OF HIGH DIMENSIONAL DATA IN PARTICULAR WHEN THE INPUT DATA SET CONTAINS A LARGE NUMBER OF ATTRIBUTES EXISTING METHODS INCUR HIGHER COMPUTING COMPLEXITY AND LOWER INFORMATION TO NOISE RATIO WHICH RENDERS THE PUBLISHED DATA NEXT TO USELESS THIS PROPOSAL AIMS TO REDUCE COMPUTING COMPLEXITY AND SIGNAL TO NOISE RATIO THE STARTING POINT IS TO APPROXIMATE THE FULL DISTRIBUTION OF HIGH DIMENSIONAL DATA SET WITH A SET OF LOW DIMENSIONAL MARGINAL DISTRIBUTIONS VIA OPTIMIZING SCORE FUNCTION AND REDUCING SENSITIVITY IN WHICH GENERATION OF NOISY CONDITIONAL DISTRIBUTIONS WITH DIFFERENTIAL PRIVACY IS COMPUTED IN A SET OF LOW DIMENSIONAL SUBSPACE S AND THEN THE SAMPLE TUPLES FROM THE NOISY APPROXIMATION DISTRIBUTION ARE USED TO GENERATE AND RELEASE THE SYNTHETIC DATA SET SOME CRUCIAL SCIENCE PROBLEMS WOULD BE INVESTIGATED BELOW I CONSTRUCTING A LOW K DEGREE BAYESIAN NETWORK OVER THE HIGH DIMENSIONAL DATA SET VIA EXPONENTIAL MECHANISM IN DIFFERENTIAL PRIVACY WHERE THE SCORE FUNCTION IS OPTIMIZED TO REDUCE THE SENSITIVITY USING MUTUAL INFORMATION EQUIVALENCE CLASSES IN MAXIMUM JOINT DISTRIBUTION AND DYNAMIC PROGRAMMING II STUDYING THE ALGORITHM TO COMPUTE A SET OF NOISY CONDITIONAL DISTRIBUTIONS FROM JOINT DISTRIBUTIONS IN THE SUBSPACE OF BAYESIAN NETWORK VIA THE LAPLACE MECHANISM OF DIFFERENTIAL PRIVACY III EXPLORING HOW TO GENERATE SYNTHETIC DATA FROM THE DIFFERENTIAL LY PRIVATE BAYESIAN NETWORK AND CONDITIONAL DISTRIBUTIONS WITHOUT EXPLICITLY MATERIALIZING THE NOISY GLOBAL DISTRIBUTION THE PROPOSED SOLUTION MAY HAVE THEORETICAL AND TECHNICAL SIGNIFICANCE FOR SYNTHETIC DATA GENERATION WITH DIFFERENTIAL PRIVACY ON BUSINESS PROSPECTS\n",
      "\n",
      "Decrypt using Key(key='SCOOSSJSCEOANRSNNICWJOSNODPXNB', ic=1.1365478686233401):\n",
      "T TW FED X DEJA D G CY V SIO QL N CW SIP YZ AS FLU KH X TAO BH JN GIJ LR AFC ARE EIH A I AEM J MR X ETT CAY A AK PR PU JEET UX T GW LF GBP L RZ CK A MW ST NV TX YE I WD G VIL ZIP IJ TI OR M DTE IW JJ DF HN KLE DE FRU VL LT NY LOST DK MEJ MR Q W SEI Z VB FE TH NT MM PTAH CY ACT ETT GM JOP ON RFX V RDF J CD DFD DZ ON MET LUA A EA QR LOS CE UMO HTC Y C QV Z TK DTE GMG UV X KAU FENE EC WWW D G KEO ETC Z V GYR K ZO GWP E OX SER SKY TN REU XL X IT IDI BR KAT CR CEO IK S YJ AFL VIL AN HIG L SIO QD Q PSV BRO A PX VU MN VT IS NE IS S XY QX MAJ TEF AT VAU LVR ZO HE URF RIO VJ TNN HO NXE WRY IJE EMTS GB QV VH OR OF SUO L CEO HC A VT AER SO EV BM Q COQ A CSX DS AMP JYD S VE SH COE BUM AS FEI P ND FIE A AT KG N JNU PT MR VEX TVI HP OZ PX S CC J IN EEZ HF JO ARO PYR NZ OIS FA J V Z TAK LV LID DW HE EOS JI VS AS ZH WOC KUM ZY NEST T NEH TY GJ MEX KT WW N GR NR IV K EM IQ W SEA DFD EZ TAY CUOR Z S ESQ SP HLF PIO IRKS DM JJ J ZN W TBS SHE FVC QT AUD WY HJ AS NRT IPV F MEX QP QU GJ TD X HUNK NE AZ PMT HYV WEEP HCV YU RK TU PQ F STD MADY IPX HK IVY RP RN NZ I HOT BZ CSN V NU YEL V QU SR YG AWL IW HIE KL KO OXY E CZ KGB QS S GROS J FJ ATL HE LY H WP YO B LIG PW Z VA KEON RF JSA F UFO ADA A AMT IZ S ESQ AZ F VW CX ON XPS C VU Y NU AT ML UE TO EV NH UUO QT LW DW NRT UMA OX ICC MS HX R RG DJ IF XP IS EK AIR DEE OV CQB MOE Z CV GH TSI ON Z DPP W IQ QUI UJ ND X TDK SO MU UE VF YU O CID TZ DA UN J TR UP SYD TEE O SQL KI BEF IWO D KG KL RD L BATS QED TW VAAN UN HQ AZ LW ZP GT UW HV FJ RPF JO OLD SQ WOTM NS J TAE ON PAI UN ON TD YL DUE YES QG IT U IN ZEO UK ODO FOOM A A XS A A EYE J SER RC IY XV HRO HAC XE JO JIH GCS KIO I GEB N NV BC FLO IS JT TX S EZ S XI DR RL MV Q FC RV WSR EUN V COU A KEI UJ HV LOND YD W HQ F YB JP ZY X TRN WU Y HT NH F Z GP AOI XE EDO BY EO JR W JU HE TEM LI KM J F WSR LJ J FR CAH PR AN WH SUI QH PG VH J SO JED Z TV TY LENE F PEC LV ARE X ED G FT TW ZEE RW FIU FY SVN YJ SQ F UP OEN MUNI HE TUN Y HX N HYO TWH BUT WV MARF BR RIE DHS XT TN S SUF W KL Q FIT CO JR WT JEO IT FM HG MF RZ GD AT IV BEW UK MIH DAS GB V FEM QTC HG JSON WD MOJ H WR PPE ENG EIH DTL N KOLL IT WY J GN RF EL HN HR LI R FY IF ZD DX BY UEL V K FH NK SYM LT I AG JSF PJ F AES W JI WE OO AOC B FT TN HI JR USE Q HYE VH NOI PEOLE E HQ KL YY A IH WWV A HE HM LF Q K TY TTT LIEF PAO DV WD DONE SI OR JR WT JEO ITF MHK F YVR NB VC IPV IRQ CR KU Y W TTT OK\n",
      "\n",
      "Decrypt using Key(key='SCDNPSJJCRTROASOCIZQUSSESECDRXJHIIGOTOCN', ic=1.121788617886179):\n",
      "T TH GHD X MEW VM FT YU DIR WA J CF OH CSV EBARA WLN X A FX F TR JDN KR FV ZEE ATV WOT YO IT M FE TEA HT DJ MJ J L PDA Q TTT IZ UH VERB DL VG MNO GENG NEE CJ DID NLD X HIT D IJE JR RM MTR D FIA DES N NRT ZE ON TIF HX W TRUEX TO MV FK BUZ NIH ZAR CIG DC GBA ARK D MYO JI PAY Z RSA O IHR OOH G DEU IR OPC OZ CN QL DOI UI ZN Q AW TD BE B W TPI Y H NEV ZE LG TE PMT PEW BAT QE Q K TY W FSC TEAS NO IF H KOV K Q KEG TH J BREW I HC GJ GR J LW VS PS D WIG V HYV W L Q NC ESHAM UL U TROY RH RL G IS XN TD MD WE OJ A CGT MUF Y QH JN TGS XJ RAM ASTRA JS MAT WV U FDD ED NE ECK Z SO TTT SD BEN NWS N HZ QS SLR NZ ID DE DTD SY HME C ORL CY T JAEN Y PB V HOD Q Z NY LOC ZX PX Y HZ F HGB K JR BD XF DEEP ZSL U EN LOT KROM NU Y TZ MEDO TUT HSU OL X BY B WC J IN UNLV S QV OG UP XD RD WE AOL W XN GAIA WO BG DOE CZY T CX TX IT VI W K DDL N ND DZ HYO GEY UJ QL H NH QE IT RW CNG JETS VEH A JOT DEKU DY C DOE UB DJ QR A HOLE E OR NJ FX IN S EFT IX RWS YAD FG TO ET DB OEN NO CE IWA TPI OX EW FF NO MIG T THEN NRL EM SSE J HO DAH QV CBB N HOX L SSC ORL CY P Z CP ZEE J FP RYO CI HX TOUL REV M FY HR KM UB NXT US PR RNO QO BOOF TWO GC FK A QX ID V BOYS YOE JR A VYV DE J V GEN PB VT PAT V ACR EUYO QE E ZARA EH WWW TAZ F Q JK KG VCE YS FE OL GI YN FB WML DEG JNU EH T FOT Z AS DF J Q GOI EX SO IO QI LXI NEN N LA BOI XU HE V N SR TCG A A X WO SGR GN MMX RAM TX PY NUF QT TAX YN WE DYS S TEX SP NT HOLT IE YD HE S RIND A GY DEF HO SZL X DK DW IV ZD NM ZH RM HAN NOUN YZ CHE Q RUE DOKDO R DOG Y KT LI BY EET U MY HN SED DET SLO CM DI HP J Z G COME J MW NTP YS SUN SWI CV URO DV TO NF VY RIP TB LOE Y PK VERA C VT GUY RN S AFD T FO SEG TWO OR J OM Q FDR V SYD VS LN N ST CI BD FT X QG FW KF MP CFC LD YJ NSE ONO UK NZ GY HU WU BOI CH HE FC ITS NSF OEN FFD S S NOPE O EW XT LEE OP EYE X JER STYES P MOO ZI JOS REF F NO MIG T THEN ND Q EMT CTF VM ZP S WAS MI JEW VAX ET WT NSA TW NJ DX AFC KIO EDC CT TEE JS J NCQ CT TO XJ RN VF ST GE AES GW TW S MOTH IE UTF V Z V AES R QT EG NH TTC JR FOB AT GW LUX S SJ IS RTI RD X EM MW JJ EV V Q PH TTL A GUY TX SK FL LK HEY GQ CT TV JR Z TK OWN UH KR TWO H BAM DUD CW SVN LS S YEN F PY F FEW I QH RUI E AHH W Z COX EE J A LEG EU HG WH HR ZU EW NSW LH PEH NA II BUL SNK ROU HEL RE TRI Z T BOD X AQ ZN CJ EX CQ TH PV RM J KH SW KV EO OK AFN L X THEY EK IL PUI D ZE HR DO Y F VIO A JER C IVO HE FP NZ BY EN MOP Y MY QO XC G HOU PSR DX RF\n",
      "\n",
      "Decrypt using Key(key='WDOERNOSCCRUCNJASJCOCXIODIPIN', ic=1.1186843807533462):\n",
      "P SWP F IS DEL X JR GH IN HOY SEM V DDP NZ FH TV R PLO JAB VF J VY DN RF URIE BK SPR R GEC JK Q REU EDO NC RAO ALP T KET Y TSV H GY T RCP LH GD SCN NFS WGS DD SD HNE BY ETH M JY TEE HE B TV N WERT ES YET KJ HK SBH U U DSM HAI USA B ZX UVF A DUI NO CEO TZ NUF I DX K TO ZY JY XX PX XM EF THQ TR B WU Q YN J DS DDL LLC A CNG FY DP LW KT MJ FV IY H SAI BZ LZ QE TY EY W BGH IE KT PEA SAUL VG PIT ZN U EW LA PH RD BOE MY IY C LYA FVC CK HF ZI KY Q F JMA SAK Q FF W FT TG K HY PATH W XIV YR GG MX AO Q TER J NAF YY USB NH X WT I DAZE ZIM DEX VH NTL LM DE DZ LH QH TE J TN GEO HUO MB J QE IN JS RV N LOE DY GY TR Z QT P PR QG D QH HU SO XUL ESC A X FOP Z RM COB MON SDK S WUV CTE FS TNN T IX ELE DOZE FY A OVO EB TDS NZ IV TS IQ NES IUR YEW QB NOW D LW ANN ZH REY VG IEEE ENS ROA ON CLU T WB BID VT KT VOS YTV RTE CC V SO WU OT WW Y FM IY RD LT PM NB FA E KOT M TSN Q Y VE W GY QB V BOOST J FTP I WE DZ KEN SV RK NL KE UTM FV YY LIED ZY GW CX YI EB RGU OLA OY F IS NO HE CT TFT X KA AL MT WTC DAH F YB VY WE H HY IZ QM XION BFD H GY TR CPE I EZA AMY WP B TZ VVD E ELM TEENS ROA ON CL J NET Y EM DDR ZY PV JS J NJ AZ G YZ FX GP RAD RW JO J L HNE PMS KM O BFD NL BQ NE X JTG NH ZU COE ARC WET UK GP DSO EOS RH UL Q APG AD NF J JX ED DEER TN DT FAHN HYO VANOC MY HE J NG IY BN RAC ROK WIM DR NH X TO MON RSS OI ALB KH C YE TO ARE LJ T IQ SVT BR SQ GID JD JI OU A AWB TE BB RAL WOT KF OHS CLOG TXT YEA J SIO TV Z F MOU E EEZ RT MJ S RER HN JP UF WB BRR T NR NF ST SL Q SLUE MQV HB VKA A BACK A GQ DY OTT CHP IRL EIH BANI EP END TJ TX OF TE RH RYO K QT ON N MY EEK HE KP ICC ZU TDL PI YAN EY QG QU NAE U DVU W MT GF WE FK K TIGE MR TY OF AUG NF FW OR WIS RT T GLOW OR HU FAM KC G KR HAE W LTE S DEG YZ TEN VF N Q SBP SOX EE TRO QS SPP KAY U CBS Y WT TH TV HEX J TH CEE TTY E EXT NB TV OR J HR B FW K FW DE GF QV G HOH YY END NE ERT MPS UP OPT I AEM ZO S DES J NV KUH HV X WG HE UL T LL X DZ Q SUIT IOA O AD CQ N KV FHM NS DEH GMA TU Y KTS IH QG DB TFK FG J NGC K FNB HIO Q NT JE KB FEJ X K ECF YO DS IN VL J ZD HC WB PX Y V NTH FO GREBE IP UH XB S GF XP ZOA HEX J TH CEE TTY E EXT NB TV OR J HIS KR PL HUI SIG EX SYL R Q J EC NRW SO CIX VHS ADC NBS MY B V PIE B V FOR RT X KATH NA VOA JR RPI B TATE CNH AS SIBIU BX TJ WI YAR LR J TV PQ SFN U MEY H JES VH CY K DA GCVO Q NT JE KB FEJ X K FP EQ MWH NT DC NB GX RT GID ET PT M Q KT YZ DCO VH VEP HX VY XO SL X FOI EG\n",
      "\n"
     ]
    },
    {
     "data": {
      "text/plain": "[Key(key='INFOSEC', ic=1.711004490531436),\n Key(key='SCOOSSJSCEOANRSNNICWJOSNODPXNB', ic=1.1365478686233401),\n Key(key='SCDNPSJJCRTROASOCIZQUSSESECDRXJHIIGOTOCN', ic=1.121788617886179),\n Key(key='WDOERNOSCCRUCNJASJCOCXIODIPIN', ic=1.1186843807533462)]"
     },
     "execution_count": 7,
     "metadata": {},
     "output_type": "execute_result"
    }
   ],
   "source": [
    "cipher_text = Vigenere('infosec').encrypt(original_text)\n",
    "crack_virginia(cipher_text)"
   ],
   "metadata": {
    "collapsed": false,
    "pycharm": {
     "name": "#%%\n"
    }
   }
  },
  {
   "cell_type": "markdown",
   "source": [
    "### Break from file"
   ],
   "metadata": {
    "collapsed": false,
    "pycharm": {
     "name": "#%% md\n"
    }
   }
  },
  {
   "cell_type": "code",
   "execution_count": 8,
   "outputs": [
    {
     "name": "stdout",
     "output_type": "stream",
     "text": [
      "Key length 16, IC = 1.730: MAVERICKMAVERICK\n",
      "Key length 40, IC = 1.731: MAVERICKMAVERICKMAVIRICKMAVERICKMAVERICK\n",
      "Key length 8, IC = 1.739: MAVERICK\n",
      "Key length 24, IC = 1.740: MAVERICKMAVERICKMAVERICK\n",
      "Key length 48, IC = 1.745: MAVERICKMAVERICKMAVERICKMAVERICKMAVERICKMAVERICK\n",
      "Key length 32, IC = 1.760: MAVERICKMAVERICKMAVERICKBAVERICK\n",
      "Key length 36, IC = 1.368: MICKRMVKRAVKREGUCICERNCKRWCEREVDRAGK\n",
      "Key length 20, IC = 1.345: RAVKRICZRIVERICERIVK\n",
      "Key length 28, IC = 1.343: RIWTMIVKRAVERIRERIRKRICKRAVK\n",
      "Key length 12, IC = 1.341: RICKRIVERIVK\n",
      "check file breaking_results.txt for cracking results\n"
     ]
    }
   ],
   "source": [
    "def crack_virginia_from_file(in_path, out_path):\n",
    "    with open(in_path, 'r') as in_file:\n",
    "        crack_virginia(in_file.read(), save_to=out_path)\n",
    "\n",
    "crack_virginia_from_file('cipher_to_break.txt', 'breaking_results.txt')"
   ],
   "metadata": {
    "collapsed": false,
    "pycharm": {
     "name": "#%%\n"
    }
   }
  }
 ],
 "metadata": {
  "kernelspec": {
   "display_name": "Python 3",
   "language": "python",
   "name": "python3"
  },
  "language_info": {
   "codemirror_mode": {
    "name": "ipython",
    "version": 2
   },
   "file_extension": ".py",
   "mimetype": "text/x-python",
   "name": "python",
   "nbconvert_exporter": "python",
   "pygments_lexer": "ipython2",
   "version": "2.7.6"
  }
 },
 "nbformat": 4,
 "nbformat_minor": 0
}